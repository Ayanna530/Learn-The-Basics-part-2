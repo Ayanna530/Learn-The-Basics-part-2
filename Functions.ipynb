{
 "cells": [
  {
   "cell_type": "code",
   "execution_count": 1,
   "id": "01c9a7e9",
   "metadata": {},
   "outputs": [
    {
     "name": "stdout",
     "output_type": "stream",
     "text": [
      "More organized code is a benefit of functions!\n",
      "More readable code is a benefit of functions!\n",
      "Easier code reuse is a benefit of functions!\n",
      "Allowing programmers to share and connect code together is a benefit of functions!\n"
     ]
    }
   ],
   "source": [
    "# Modify this function to return a list of strings as defined above\n",
    "def list_benefits():\n",
    "    return \"More organized code\", \"More readable code\", \"Easier code reuse\", \"Allowing programmers to share and connect code together\"\n",
    "\n",
    "# Modify this function to concatenate to each benefit - \" is a benefit of functions!\"\n",
    "def build_sentence(benefit):\n",
    "    return \"%s is a benefit of functions!\" % benefit\n",
    "\n",
    "\n",
    "def name_the_benefits_of_functions():\n",
    "    list_of_benefits = list_benefits()\n",
    "    for benefit in list_of_benefits:\n",
    "        print(build_sentence(benefit))\n",
    "\n",
    "name_the_benefits_of_functions()"
   ]
  },
  {
   "cell_type": "code",
   "execution_count": null,
   "id": "7095cfbd",
   "metadata": {},
   "outputs": [],
   "source": []
  }
 ],
 "metadata": {
  "kernelspec": {
   "display_name": "Python 3",
   "language": "python",
   "name": "python3"
  },
  "language_info": {
   "codemirror_mode": {
    "name": "ipython",
    "version": 3
   },
   "file_extension": ".py",
   "mimetype": "text/x-python",
   "name": "python",
   "nbconvert_exporter": "python",
   "pygments_lexer": "ipython3",
   "version": "3.6.15"
  }
 },
 "nbformat": 4,
 "nbformat_minor": 5
}
